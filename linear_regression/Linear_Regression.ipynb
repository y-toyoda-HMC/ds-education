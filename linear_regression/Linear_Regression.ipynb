{
 "cells": [
  {
   "cell_type": "code",
   "execution_count": 1,
   "metadata": {},
   "outputs": [],
   "source": [
    "#使用ライブラリ\n",
    "import pandas as pd\n",
    "from sklearn.linear_model import LinearRegression\n",
    "from sklearn.metrics import mean_squared_error\n",
    "from sklearn.model_selection import KFold\n",
    "\n",
    "import statsmodels.api as sm\n",
    "import numpy as np"
   ]
  },
  {
   "cell_type": "code",
   "execution_count": 2,
   "metadata": {},
   "outputs": [],
   "source": [
    "###データ読込(結合したデータ)\n",
    "train = pd.read_csv(filepath_or_buffer='../j_league/new_data/__train_new.csv')\n",
    "test = pd.read_csv(filepath_or_buffer='../j_league/new_data/test_new.csv')\n",
    "\n",
    "rank_data = pd.read_csv(filepath_or_buffer='../j_league/new_data/ranking_data.csv').drop('stage', 1)"
   ]
  },
  {
   "cell_type": "code",
   "execution_count": 3,
   "metadata": {},
   "outputs": [],
   "source": [
    "# 順位データ追加\n",
    "train = pd.merge(train, rank_data, left_on=['id', 'home'], right_on=['id', 'team'])\n",
    "test = pd.merge(test, rank_data, left_on=['id', 'home'], right_on=['id', 'team'])"
   ]
  },
  {
   "cell_type": "code",
   "execution_count": 4,
   "metadata": {},
   "outputs": [],
   "source": [
    "##はずれ値の除去\n",
    "#観客動員数が0人の試合は除去する\n",
    "train = train[train.y != 0]\n",
    "\n",
    "#雨フラグの追加\n",
    "train['rain_flag'] = 0\n",
    "test['rain_flag'] = 0\n",
    "\n",
    "train.loc[train.weather.str.contains('雨'), 'rain_flag'] = 1\n",
    "test.loc[test.weather.str.contains('雨'), 'rain_flag'] = 1\n",
    "\n",
    "#晴れフラグの追加\n",
    "train['sunny_flag'] = 0\n",
    "test['sunny_flag'] = 0\n",
    "train.loc[train.weather.str.contains('晴'), 'sunny_flag'] = 1\n",
    "test.loc[test.weather.str.contains('晴'), 'sunny_flag'] = 1\n",
    "\n",
    "# TV局数を追加\n",
    "train['tv_num'] = train.tv.str.count('／') + 1\n",
    "test['tv_num'] = test.tv.str.count('／') + 1"
   ]
  },
  {
   "cell_type": "code",
   "execution_count": 5,
   "metadata": {},
   "outputs": [],
   "source": [
    "#曜日ごとにラベル付け\n",
    "train['day_label'] = 0\n",
    "train.loc[train.gameday.str.contains('月'), 'day_label'] = 1\n",
    "train.loc[train.gameday.str.contains('火'), 'day_label'] = 2\n",
    "train.loc[train.gameday.str.contains('水'), 'day_label'] = 3\n",
    "train.loc[train.gameday.str.contains('木'), 'day_label'] = 4\n",
    "train.loc[train.gameday.str.contains('金'), 'day_label'] = 5\n",
    "train.loc[train.gameday.str.contains('土'), 'day_label'] = 6\n",
    "train.loc[train.gameday.str.contains('日'), 'day_label'] = 7\n",
    "\n",
    "test['day_label'] = 0\n",
    "test.loc[test.gameday.str.contains('月'), 'day_label'] = 1\n",
    "test.loc[test.gameday.str.contains('火'), 'day_label'] = 2\n",
    "test.loc[test.gameday.str.contains('水'), 'day_label'] = 3\n",
    "test.loc[test.gameday.str.contains('木'), 'day_label'] = 4\n",
    "test.loc[test.gameday.str.contains('金'), 'day_label'] = 5\n",
    "test.loc[test.gameday.str.contains('土'), 'day_label'] = 6\n",
    "test.loc[test.gameday.str.contains('日'), 'day_label'] = 7"
   ]
  },
  {
   "cell_type": "markdown",
   "metadata": {},
   "source": [
    "### 使用変数の作成"
   ]
  },
  {
   "cell_type": "code",
   "execution_count": 6,
   "metadata": {},
   "outputs": [],
   "source": [
    "#変数選択(目的変数, 気温, 収容人数)\n",
    "lm_train = train[['id',\n",
    "                  'y',\n",
    "                  'stage',\n",
    "                  'temperature',\n",
    "                  'capa',\n",
    "                  'rain_flag',\n",
    "                  'sunny_flag',\n",
    "                  'day_label',\n",
    "                  'stadium',\n",
    "                  'home',\n",
    "                  'rank_last',\n",
    "                  'tv_num']]\n",
    "lm_train = pd.get_dummies(lm_train)\n",
    "lm_test = test[['id',\n",
    "                'stage',\n",
    "                'temperature',\n",
    "                'capa',\n",
    "                'rain_flag',\n",
    "                'sunny_flag',\n",
    "                'day_label',\n",
    "                'stadium',\n",
    "                'home',\n",
    "                'rank_last',\n",
    "                'tv_num']]\n",
    "lm_test = pd.get_dummies(lm_test)\n",
    "\n",
    "#テストデータに存在しない要素は削除する\n",
    "#home\n",
    "lm_train = lm_train.drop(['home_ザスパ草津',\n",
    "                          'home_ＦＣ町田ゼルビア',\n",
    "                          'home_ガイナーレ鳥取'],1)\n",
    "#stadium\n",
    "lm_train = lm_train.drop(['stadium_宮城スタジアム',\n",
    "                          'stadium_鹿児島県立鴨池陸上競技場 ',\n",
    "                          'stadium_国立競技場',\n",
    "                          'stadium_岡山県津山陸上競技場',\n",
    "                          'stadium_とりぎんバードスタジアム',\n",
    "                          'stadium_駒沢オリンピック公園総合運動場陸上競技場',\n",
    "                          'stadium_町田市立陸上競技場',\n",
    "                          'stadium_岐阜メモリアルセンター長良川球技メドウ',\n",
    "                          'stadium_佐賀県総合運動場陸上競技場',\n",
    "                          'stadium_福島県営あづま陸上競技場',\n",
    "                          'stadium_大垣市浅中公園総合グラウンド陸上競技場'],1)"
   ]
  },
  {
   "cell_type": "code",
   "execution_count": 7,
   "metadata": {},
   "outputs": [],
   "source": [
    "##Stage(J1/J2)で場合分け\n",
    "#学習データ\n",
    "lm_train_j1 = lm_train.groupby('stage_Ｊ１').get_group(1).drop('stage_Ｊ２', 1)\n",
    "lm_train_j2 = lm_train.groupby('stage_Ｊ２').get_group(1).drop('stage_Ｊ１', 1)\n",
    "#テストデータ\n",
    "lm_test_j1 = lm_test.groupby('stage_Ｊ１').get_group(1).drop('stage_Ｊ２', 1)\n",
    "lm_test_j2 = lm_test.groupby('stage_Ｊ２').get_group(1).drop('stage_Ｊ１', 1)"
   ]
  },
  {
   "cell_type": "markdown",
   "metadata": {},
   "source": [
    "### 重回帰分析"
   ]
  },
  {
   "cell_type": "code",
   "execution_count": 8,
   "metadata": {},
   "outputs": [],
   "source": [
    "##クロスバリデーション\n",
    "#データをK分割\n",
    "K = 5\n",
    "kf = KFold(n_splits=K, shuffle=True, random_state=17)\n",
    "\n",
    "#J1のループ\n",
    "pred_j1_tmp = np.zeros(len(lm_test_j1))\n",
    "for train_index, test_index in kf.split(lm_train_j1):\n",
    "\n",
    "    train_train = lm_train_j1.iloc[train_index]    \n",
    "    lm_j1 = sm.OLS(train_train['y'], train_train.drop(['y', 'id'], 1)).fit() #J1\n",
    "    #検証データの予測値\n",
    "    pred_j1_tmp += lm_j1.predict(lm_test_j1.drop('id',1))\n",
    "\n",
    "pred_j1 = pred_j1_tmp/K\n",
    "\n",
    "#J2のループ\n",
    "pred_j2_tmp = np.zeros(len(lm_test_j2))\n",
    "for train_index, test_index in kf.split(lm_train_j2):\n",
    "\n",
    "    train_train = lm_train_j2.iloc[train_index]    \n",
    "    lm_j2 = sm.OLS(train_train['y'], train_train.drop(['y', 'id'], 1)).fit() #J1\n",
    "    #検証データの予測値\n",
    "    pred_j2_tmp += lm_j2.predict(lm_test_j2.drop('id',1))\n",
    "\n",
    "pred_j2 = pred_j2_tmp/K"
   ]
  },
  {
   "cell_type": "code",
   "execution_count": 9,
   "metadata": {},
   "outputs": [],
   "source": [
    "# サマリーの表示\n",
    "#lm.summary()"
   ]
  },
  {
   "cell_type": "markdown",
   "metadata": {},
   "source": [
    "### submit形式に整える"
   ]
  },
  {
   "cell_type": "code",
   "execution_count": 10,
   "metadata": {},
   "outputs": [],
   "source": [
    "pred_j1 = pd.DataFrame({'id': lm_test_j1['id'], 'y': pred_j1})\n",
    "pred_j2 = pd.DataFrame({'id': lm_test_j2['id'], 'y': pred_j2})\n",
    "\n",
    "out = pd.concat([pred_j1, pred_j2]).sort_values('id')\n",
    "# 予測値がCapaを超えている場合はCapaの値に修正\n",
    "for i in range(len(out)):\n",
    "    if out.iloc[i].y > test.iloc[i].capa:\n",
    "        out.iloc[i].y = test.iloc[i].capa\n",
    "\n",
    "#CSV出力(ヘッダーなし)\n",
    "out_csv_name = 'submit/20200820_5_submit_lm.csv'\n",
    "out.to_csv(out_csv_name, header=False, index=False)"
   ]
  },
  {
   "cell_type": "code",
   "execution_count": 11,
   "metadata": {},
   "outputs": [],
   "source": [
    "#出力したCSVが想定どおりのフォーマットか確認する\n",
    "#先ほど出力したファイルと投稿用のサンプルファイルを読込\n",
    "submit_sample = pd.read_csv(filepath_or_buffer='../../data/JLeague/sample_submit.csv')\n",
    "submit_out = pd.read_csv(filepath_or_buffer=out_csv_name)\n",
    "\n",
    "#インデックスを比較\n",
    "assert len(submit_sample.index.values) == len(submit_out.index.values)\n",
    "assert (submit_sample.index.values == submit_out.index.values).all()\n",
    "\n",
    "#1列目がidとなっており、同じIDから始まっているか検証\n",
    "assert submit_sample.columns[0] == submit_out.columns[0]\n",
    "assert (submit_out.iloc[:, 0] == submit_sample.iloc[:, 0]).all()\n",
    "\n",
    "#2列目の列名「y」が入っていないか検証\n",
    "assert 'y' != submit_out.columns[0]"
   ]
  }
 ],
 "metadata": {
  "kernelspec": {
   "display_name": "Python 3",
   "language": "python",
   "name": "python3"
  },
  "language_info": {
   "codemirror_mode": {
    "name": "ipython",
    "version": 3
   },
   "file_extension": ".py",
   "mimetype": "text/x-python",
   "name": "python",
   "nbconvert_exporter": "python",
   "pygments_lexer": "ipython3",
   "version": "3.8.2"
  }
 },
 "nbformat": 4,
 "nbformat_minor": 4
}