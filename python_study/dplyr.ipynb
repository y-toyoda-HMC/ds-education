{
 "cells": [
  {
   "cell_type": "code",
   "execution_count": 1,
   "metadata": {},
   "outputs": [],
   "source": [
    "# dplyrはpython用のライブラリなので python pandas で代替？\n",
    "import pandas as pd"
   ]
  },
  {
   "cell_type": "code",
   "execution_count": 5,
   "metadata": {},
   "outputs": [
    {
     "name": "stdout",
     "output_type": "stream",
     "text": [
      "     x    y    z\n",
      "0    1  201  101\n",
      "1    2  202  102\n",
      "2    3  203  103\n",
      "3    4  204  104\n",
      "4    5  205  105\n",
      "..  ..  ...  ...\n",
      "94  95  295  195\n",
      "95  96  296  196\n",
      "96  97  297  197\n",
      "97  98  298  198\n",
      "98  99  299  199\n",
      "\n",
      "[99 rows x 3 columns]\n"
     ]
    }
   ],
   "source": [
    "### サンプルデータ\n",
    "temp1 = pd.DataFrame({\n",
    "    'x':range(1,100),\n",
    "    'y':range(201,300),\n",
    "    'z':range(101,200)\n",
    "})\n",
    "print(temp1)"
   ]
  },
  {
   "cell_type": "code",
   "execution_count": 9,
   "metadata": {},
   "outputs": [],
   "source": [
    "sub1 = temp1[temp1.x > 40]"
   ]
  },
  {
   "cell_type": "code",
   "execution_count": 17,
   "metadata": {},
   "outputs": [
    {
     "name": "stdout",
     "output_type": "stream",
     "text": [
      "   y_mean  z_median\n",
      "0   275.0     175.0\n"
     ]
    }
   ],
   "source": [
    "sub = temp1[temp1.x > 50]\n",
    "y_mean = sub.y.mean()\n",
    "z_median = sub.z.median()\n",
    "dat1 = pd.DataFrame({\n",
    "    'y_mean' : [y_mean],\n",
    "    'z_median' : [z_median]\n",
    "})\n",
    "\n",
    "print(dat1)"
   ]
  }
 ],
 "metadata": {
  "kernelspec": {
   "display_name": "Python 3",
   "language": "python",
   "name": "python3"
  },
  "language_info": {
   "codemirror_mode": {
    "name": "ipython",
    "version": 3
   },
   "file_extension": ".py",
   "mimetype": "text/x-python",
   "name": "python",
   "nbconvert_exporter": "python",
   "pygments_lexer": "ipython3",
   "version": "3.8.2"
  }
 },
 "nbformat": 4,
 "nbformat_minor": 4
}
