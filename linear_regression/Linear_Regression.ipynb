{
 "cells": [
  {
   "cell_type": "code",
   "execution_count": 1,
   "metadata": {},
   "outputs": [],
   "source": [
    "#使用ライブラリ\n",
    "import pandas as pd\n",
    "from sklearn.linear_model import LinearRegression\n",
    "\n",
    "import statsmodels.api as sm"
   ]
  },
  {
   "cell_type": "code",
   "execution_count": 2,
   "metadata": {},
   "outputs": [],
   "source": [
    "###データ読込(結合したデータ)\n",
    "train = pd.read_csv(filepath_or_buffer='../j_league/new_data/train_new.csv')\n",
    "test = pd.read_csv(filepath_or_buffer='../j_league/new_data/test_new.csv')"
   ]
  },
  {
   "cell_type": "markdown",
   "metadata": {},
   "source": [
    "### 使用変数の作成"
   ]
  },
  {
   "cell_type": "code",
   "execution_count": 3,
   "metadata": {},
   "outputs": [],
   "source": [
    "#変数選択(目的変数, 気温, 収容人数)\n",
    "lm_train = train[['y', 'temperature', 'capa']]\n",
    "lm_test = test[['temperature', 'capa']]"
   ]
  },
  {
   "cell_type": "markdown",
   "metadata": {},
   "source": [
    "### 重回帰分析"
   ]
  },
  {
   "cell_type": "code",
   "execution_count": 4,
   "metadata": {},
   "outputs": [],
   "source": [
    "##sklearn を利用して回帰分析\n",
    "#lm = LinearRegression().fit(lm_train.drop('y', 1), lm_train['y'])\n",
    "\n",
    "##statsmodels を利用して回帰分析\n",
    "lm = sm.OLS(lm_train['y'], lm_train.drop('y', 1)).fit()"
   ]
  },
  {
   "cell_type": "code",
   "execution_count": 5,
   "metadata": {},
   "outputs": [
    {
     "data": {
      "text/html": [
       "<table class=\"simpletable\">\n",
       "<caption>OLS Regression Results</caption>\n",
       "<tr>\n",
       "  <th>Dep. Variable:</th>            <td>y</td>        <th>  R-squared (uncentered):</th>      <td>   0.807</td> \n",
       "</tr>\n",
       "<tr>\n",
       "  <th>Model:</th>                   <td>OLS</td>       <th>  Adj. R-squared (uncentered):</th> <td>   0.807</td> \n",
       "</tr>\n",
       "<tr>\n",
       "  <th>Method:</th>             <td>Least Squares</td>  <th>  F-statistic:       </th>          <td>   3595.</td> \n",
       "</tr>\n",
       "<tr>\n",
       "  <th>Date:</th>             <td>Wed, 12 Aug 2020</td> <th>  Prob (F-statistic):</th>           <td>  0.00</td>  \n",
       "</tr>\n",
       "<tr>\n",
       "  <th>Time:</th>                 <td>12:59:38</td>     <th>  Log-Likelihood:    </th>          <td> -17380.</td> \n",
       "</tr>\n",
       "<tr>\n",
       "  <th>No. Observations:</th>      <td>  1721</td>      <th>  AIC:               </th>          <td>3.476e+04</td>\n",
       "</tr>\n",
       "<tr>\n",
       "  <th>Df Residuals:</th>          <td>  1719</td>      <th>  BIC:               </th>          <td>3.477e+04</td>\n",
       "</tr>\n",
       "<tr>\n",
       "  <th>Df Model:</th>              <td>     2</td>      <th>                     </th>              <td> </td>    \n",
       "</tr>\n",
       "<tr>\n",
       "  <th>Covariance Type:</th>      <td>nonrobust</td>    <th>                     </th>              <td> </td>    \n",
       "</tr>\n",
       "</table>\n",
       "<table class=\"simpletable\">\n",
       "<tr>\n",
       "       <td></td>          <th>coef</th>     <th>std err</th>      <th>t</th>      <th>P>|t|</th>  <th>[0.025</th>    <th>0.975]</th>  \n",
       "</tr>\n",
       "<tr>\n",
       "  <th>temperature</th> <td>   13.6159</td> <td>   11.966</td> <td>    1.138</td> <td> 0.255</td> <td>   -9.853</td> <td>   37.085</td>\n",
       "</tr>\n",
       "<tr>\n",
       "  <th>capa</th>        <td>    0.4039</td> <td>    0.009</td> <td>   45.910</td> <td> 0.000</td> <td>    0.387</td> <td>    0.421</td>\n",
       "</tr>\n",
       "</table>\n",
       "<table class=\"simpletable\">\n",
       "<tr>\n",
       "  <th>Omnibus:</th>       <td>123.451</td> <th>  Durbin-Watson:     </th> <td>   1.471</td>\n",
       "</tr>\n",
       "<tr>\n",
       "  <th>Prob(Omnibus):</th> <td> 0.000</td>  <th>  Jarque-Bera (JB):  </th> <td> 322.576</td>\n",
       "</tr>\n",
       "<tr>\n",
       "  <th>Skew:</th>          <td> 0.394</td>  <th>  Prob(JB):          </th> <td>8.98e-71</td>\n",
       "</tr>\n",
       "<tr>\n",
       "  <th>Kurtosis:</th>      <td> 4.969</td>  <th>  Cond. No.          </th> <td>2.46e+03</td>\n",
       "</tr>\n",
       "</table><br/><br/>Warnings:<br/>[1] Standard Errors assume that the covariance matrix of the errors is correctly specified.<br/>[2] The condition number is large, 2.46e+03. This might indicate that there are<br/>strong multicollinearity or other numerical problems."
      ],
      "text/plain": [
       "<class 'statsmodels.iolib.summary.Summary'>\n",
       "\"\"\"\n",
       "                                 OLS Regression Results                                \n",
       "=======================================================================================\n",
       "Dep. Variable:                      y   R-squared (uncentered):                   0.807\n",
       "Model:                            OLS   Adj. R-squared (uncentered):              0.807\n",
       "Method:                 Least Squares   F-statistic:                              3595.\n",
       "Date:                Wed, 12 Aug 2020   Prob (F-statistic):                        0.00\n",
       "Time:                        12:59:38   Log-Likelihood:                         -17380.\n",
       "No. Observations:                1721   AIC:                                  3.476e+04\n",
       "Df Residuals:                    1719   BIC:                                  3.477e+04\n",
       "Df Model:                           2                                                  \n",
       "Covariance Type:            nonrobust                                                  \n",
       "===============================================================================\n",
       "                  coef    std err          t      P>|t|      [0.025      0.975]\n",
       "-------------------------------------------------------------------------------\n",
       "temperature    13.6159     11.966      1.138      0.255      -9.853      37.085\n",
       "capa            0.4039      0.009     45.910      0.000       0.387       0.421\n",
       "==============================================================================\n",
       "Omnibus:                      123.451   Durbin-Watson:                   1.471\n",
       "Prob(Omnibus):                  0.000   Jarque-Bera (JB):              322.576\n",
       "Skew:                           0.394   Prob(JB):                     8.98e-71\n",
       "Kurtosis:                       4.969   Cond. No.                     2.46e+03\n",
       "==============================================================================\n",
       "\n",
       "Warnings:\n",
       "[1] Standard Errors assume that the covariance matrix of the errors is correctly specified.\n",
       "[2] The condition number is large, 2.46e+03. This might indicate that there are\n",
       "strong multicollinearity or other numerical problems.\n",
       "\"\"\""
      ]
     },
     "execution_count": 5,
     "metadata": {},
     "output_type": "execute_result"
    }
   ],
   "source": [
    "# サマリーの表示\n",
    "lm.summary()"
   ]
  },
  {
   "cell_type": "markdown",
   "metadata": {},
   "source": [
    "### testに当てはめ"
   ]
  },
  {
   "cell_type": "code",
   "execution_count": 6,
   "metadata": {},
   "outputs": [],
   "source": [
    "pred = lm.predict(lm_test)"
   ]
  },
  {
   "cell_type": "markdown",
   "metadata": {},
   "source": [
    "### submit形式に整える"
   ]
  },
  {
   "cell_type": "code",
   "execution_count": 7,
   "metadata": {},
   "outputs": [],
   "source": [
    "out = pd.DataFrame({'id': test['id'],\n",
    "                   'y': pred})\n",
    "#CSV出力(ヘッダーなし)\n",
    "out.to_csv('submit/submit_lm.csv', header=False, index=False)"
   ]
  },
  {
   "cell_type": "code",
   "execution_count": 8,
   "metadata": {},
   "outputs": [],
   "source": [
    "#出力したCSVが想定どおりのフォーマットか確認する\n",
    "#先ほど出力したファイルと投稿用のサンプルファイルを読込\n",
    "submit_sample = pd.read_csv(filepath_or_buffer='../../data/JLeague/sample_submit.csv')\n",
    "submit_out = pd.read_csv(filepath_or_buffer='submit/submit_lm.csv')\n",
    "\n",
    "#インデックスを比較\n",
    "assert len(submit_sample.index.values) == len(submit_out.index.values)\n",
    "assert (submit_sample.index.values == submit_out.index.values).all()\n",
    "\n",
    "#1列目がidとなっており、同じIDから始まっているか検証\n",
    "assert submit_sample.columns[0] == submit_out.columns[0]\n",
    "assert (submit_out.iloc[:, 0] == submit_sample.iloc[:, 0]).all()\n",
    "\n",
    "#2列目の列名「y」が入っていないか検証\n",
    "assert 'y' != submit_out.columns[0]"
   ]
  }
 ],
 "metadata": {
  "kernelspec": {
   "display_name": "Python 3",
   "language": "python",
   "name": "python3"
  },
  "language_info": {
   "codemirror_mode": {
    "name": "ipython",
    "version": 3
   },
   "file_extension": ".py",
   "mimetype": "text/x-python",
   "name": "python",
   "nbconvert_exporter": "python",
   "pygments_lexer": "ipython3",
   "version": "3.8.2"
  }
 },
 "nbformat": 4,
 "nbformat_minor": 4
}
