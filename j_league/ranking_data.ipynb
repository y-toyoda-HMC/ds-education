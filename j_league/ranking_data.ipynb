{
 "cells": [
  {
   "cell_type": "markdown",
   "metadata": {},
   "source": [
    "# ランキングデータ作成プログラム\n",
    "```\n",
    "| ヘッダ名称 | 説明                                 | \n",
    "| ---------- | ------------------------------------ | \n",
    "| id         | 対戦カードID                         | \n",
    "| year       | 開催年度                             | \n",
    "| stage      | 開催大会                             | \n",
    "| match_num  | 節数                                 | \n",
    "| team       | チーム名                             | \n",
    "| point      | 今節勝ち点                           | \n",
    "| goal       | 今節得失点                           | \n",
    "| score      | 今節得点                             | \n",
    "| point_last | 前節までの勝ち点                     | \n",
    "| goal_last  | 前節までの得失点                     | \n",
    "| score_last | 前節までの得点                       |\n",
    "| win_last   | 前節までの得点                       | \n",
    "| rank_last  | 前節までの結果を反映させたランキング | \n",
    "```\n",
    "id, team が紐づけkey"
   ]
  },
  {
   "cell_type": "code",
   "execution_count": 1,
   "metadata": {},
   "outputs": [],
   "source": [
    "import pandas as pd\n",
    "import numpy as np"
   ]
  },
  {
   "cell_type": "code",
   "execution_count": 2,
   "metadata": {},
   "outputs": [],
   "source": [
    "# データ読込\n",
    "train = pd.read_csv(filepath_or_buffer='../../data/JLeague/train.csv')\n",
    "train_add = pd.read_csv(filepath_or_buffer='../../data/JLeague/train_add.csv')\n",
    "condition = pd.read_csv(filepath_or_buffer='../../data/JLeague/condition.csv')\n",
    "condition_add = pd.read_csv(filepath_or_buffer='../../data/JLeague/condition_add.csv')\n",
    "test = pd.read_csv(filepath_or_buffer='../../data/JLeague/test.csv')\n",
    "test_2014_add = pd.read_csv(filepath_or_buffer='../../data/JLeague/2014_add.csv')"
   ]
  },
  {
   "cell_type": "markdown",
   "metadata": {},
   "source": [
    "### データ結合"
   ]
  },
  {
   "cell_type": "code",
   "execution_count": 3,
   "metadata": {},
   "outputs": [],
   "source": [
    "#condtion_all\n",
    "condition_all = pd.concat([condition, condition_add])\n",
    "\n",
    "#train_all\n",
    "train_all = pd.concat([train, train_add])\n",
    "train_all = train_all.merge(condition_all, on='id')\n",
    "\n",
    "#test_all\n",
    "test_all = pd.concat([test,test_2014_add])\n",
    "test_all = test_all.merge(condition_all, on='id')"
   ]
  },
  {
   "cell_type": "markdown",
   "metadata": {},
   "source": [
    "### 前節までの順位データ作成"
   ]
  },
  {
   "cell_type": "code",
   "execution_count": 4,
   "metadata": {},
   "outputs": [],
   "source": [
    "han = ['0', '1', '2', '3', '4', '5', '6', '7', '8', '9']\n",
    "zen = ['０', '１', '２', '３', '４', '５', '６', '７', '８', '９']\n",
    "# 節数抽出関数\n",
    "def get_matchnum_list(x):\n",
    "    \"\"\"\n",
    "    x : 開催節（match）\n",
    "    \"\"\"\n",
    "    tmp = x.str[1:3].str.replace('節', '')\n",
    "    \n",
    "    for i in range(10):\n",
    "        tmp = tmp.str.replace(zen[i], han[i])\n",
    "    \n",
    "    return tmp.astype(int)\n",
    "\n",
    "#勝ち点計算関数\n",
    "def win_point(x, y):\n",
    "    \"\"\"\n",
    "    x, y それぞれともに整数\n",
    "    x点入れたチームの勝ち点を計算する\n",
    "    \"\"\"\n",
    "    tmp = np.zeros(len(x), dtype=np.int)\n",
    "    for i in range(len(x)):\n",
    "        if x.iloc[i] > y.iloc[i]:\n",
    "            tmp[i] = 3\n",
    "        elif x.iloc[i] == y.iloc[i]:\n",
    "            tmp[i] = 1\n",
    "    return tmp\n",
    "\n"
   ]
  },
  {
   "cell_type": "markdown",
   "metadata": {},
   "source": [
    "### 各試合の勝ち点、得失点データの作成（2012-2014の全試合）"
   ]
  },
  {
   "cell_type": "code",
   "execution_count": 5,
   "metadata": {},
   "outputs": [],
   "source": [
    "score_table = pd.concat([train_all.drop('y', axis=1), test_all])\n",
    "score_table = score_table[['id','year', 'stage','home', 'away', \n",
    "                           'match', 'home_score', 'away_score']]\n",
    "#節数\n",
    "score_table['match_num'] = get_matchnum_list(score_table.match)\n",
    "#勝ち点\n",
    "score_table['home_point'] = win_point(score_table.home_score, score_table.away_score)\n",
    "score_table['away_point'] = win_point(score_table.away_score, score_table.home_score)\n",
    "#得失点差\n",
    "score_table['home_goal'] = score_table.home_point - score_table.away_point\n",
    "score_table['away_goal'] = score_table.away_point - score_table.home_point\n",
    "#勝利数\n",
    "score_table['home_win'] = np.zeros(len(score_table), dtype=np.int)\n",
    "score_table.loc[score_table['home_score'] > score_table['away_score'], 'home_win'] = 1\n",
    "score_table['away_win'] = np.zeros(len(score_table), dtype=np.int)\n",
    "score_table.loc[score_table['home_score'] > score_table['away_score'], 'away_win'] = 1\n",
    "\n",
    "\n",
    "score_table = score_table.drop('match', axis=1)"
   ]
  },
  {
   "cell_type": "markdown",
   "metadata": {},
   "source": [
    "### 試合、チームごとのスコア"
   ]
  },
  {
   "cell_type": "code",
   "execution_count": 7,
   "metadata": {},
   "outputs": [],
   "source": [
    "home_ranking_data = score_table[['id','year', 'stage', 'home', 'match_num',\n",
    "                            'home_score', 'home_point', 'home_goal', 'home_win']]\\\n",
    "                    .rename(columns={'home': 'team',\n",
    "                                     'home_point': 'point',\n",
    "                                     'home_score': 'score',\n",
    "                                     'home_goal':'goal',\n",
    "                                     'home_win':'win'\n",
    "                                    })\n",
    "away_ranking_data = score_table[['id','year', 'stage', 'away', 'match_num',\n",
    "                            'away_score', 'away_point', 'away_goal', 'away_win']]\\\n",
    "                    .rename(columns={'away': 'team',\n",
    "                                     'away_point': 'point',\n",
    "                                     'away_score': 'score',\n",
    "                                     'away_goal': 'goal',\n",
    "                                     'away_win': 'win'\n",
    "                                    })\n",
    "ranking_data = pd.concat([home_ranking_data, away_ranking_data])\\\n",
    "    .sort_values(['team', 'year', 'match_num']).reset_index(drop=True)\n",
    "\n",
    "#累計の勝ち点を算出\n",
    "ranking_data['point_last'] = ranking_data.groupby(['team', 'year']).cumsum().shift().point\n",
    "ranking_data.loc[ranking_data['match_num'] == 1, 'point_last'] = 0\n",
    "ranking_data['point_last'] = ranking_data.point_last.astype(int)\n",
    "#累計の得失点を算出\n",
    "ranking_data['goal_last'] = ranking_data.groupby(['team', 'year']).cumsum().shift().goal\n",
    "ranking_data.loc[ranking_data['match_num'] == 1, 'goal_last'] = 0\n",
    "ranking_data['goal_last'] = ranking_data.goal_last.astype(int)\n",
    "#累計の得点を算出\n",
    "ranking_data['score_last'] = ranking_data.groupby(['team', 'year']).cumsum().shift().score\n",
    "ranking_data.loc[ranking_data['match_num'] == 1, 'score_last'] = 0\n",
    "ranking_data['score_last'] = ranking_data.score_last.astype(int)\n",
    "#累計の勝利数を算出\n",
    "ranking_data['win_last'] = ranking_data.groupby(['team', 'year']).cumsum().shift().win\n",
    "ranking_data.loc[ranking_data['match_num'] == 1, 'win_last'] = 0\n",
    "ranking_data['win_last'] = ranking_data.win_last.astype(int)\n",
    "#各節ごとの順位を算出\n",
    "ranking_data['rank_tmp'] = (ranking_data['point_last']*1000000\n",
    "                            + ranking_data['goal_last']*10000\n",
    "                            + ranking_data['win_last']*100\n",
    "                            + ranking_data['score_last'])\n",
    "ranking_data['rank_last'] = ranking_data.groupby(['year', 'stage', 'match_num']).rank(method='min').rank_tmp.astype(int)\n",
    "ranking_data.loc[ranking_data['match_num'] == 1, 'rank_last'] = 0\n",
    "ranking_data = ranking_data.drop('rank_tmp', axis=1)\n",
    "\n",
    "\n",
    "#ステージ（J1/J2）、開催年度、開催節、ランキングでソート\n",
    "ranking_data = ranking_data.sort_values(['stage', 'year', 'match_num', 'rank_last']).reset_index(drop=True)\n",
    "\n",
    "\n",
    "# CSVに保存\n",
    "ranking_data.to_csv('new_data/ranking_data.csv', header=True, index=False)"
   ]
  }
 ],
 "metadata": {
  "kernelspec": {
   "display_name": "Python 3",
   "language": "python",
   "name": "python3"
  },
  "language_info": {
   "codemirror_mode": {
    "name": "ipython",
    "version": 3
   },
   "file_extension": ".py",
   "mimetype": "text/x-python",
   "name": "python",
   "nbconvert_exporter": "python",
   "pygments_lexer": "ipython3",
   "version": "3.8.2"
  }
 },
 "nbformat": 4,
 "nbformat_minor": 4
}
