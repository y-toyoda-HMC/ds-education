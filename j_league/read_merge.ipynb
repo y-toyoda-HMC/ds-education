{
 "cells": [
  {
   "cell_type": "code",
   "execution_count": 1,
   "metadata": {},
   "outputs": [],
   "source": [
    "#使用ライブラリ\n",
    "import pandas as pd"
   ]
  },
  {
   "cell_type": "code",
   "execution_count": 2,
   "metadata": {},
   "outputs": [],
   "source": [
    "#データ読込\n",
    "train = pd.read_csv(filepath_or_buffer='../../data/JLeague/train.csv')\n",
    "test = pd.read_csv(filepath_or_buffer='../../data/JLeague/test.csv')\n",
    "condition = pd.read_csv(filepath_or_buffer='../../data/JLeague/condition.csv')\n",
    "stadium = pd.read_csv(filepath_or_buffer='../../data/JLeague/stadium.csv')\n",
    "sample = pd.read_csv(filepath_or_buffer='../../data/JLeague/sample_submit.csv')"
   ]
  },
  {
   "cell_type": "code",
   "execution_count": 3,
   "metadata": {},
   "outputs": [],
   "source": [
    "#trainとconditionを対戦カードidを基準に結合\n",
    "tmp1 = pd.merge(train, condition, on='id', how='left')\n",
    "#display(tmp1)\n",
    "#testとconditionを対戦カードidを基準に結合\n",
    "tmp2 = pd.merge(test, condition, on='id', how='left')"
   ]
  },
  {
   "cell_type": "code",
   "execution_count": 4,
   "metadata": {},
   "outputs": [],
   "source": [
    "#結合(基準とする変数名が違うので注意)\n",
    "train_new = pd.merge(tmp1, stadium, left_on='stadium', right_on='name', how='left')\n",
    "test_new = pd.merge(tmp2, stadium, left_on='stadium', right_on='name', how='left')"
   ]
  },
  {
   "cell_type": "code",
   "execution_count": 5,
   "metadata": {},
   "outputs": [],
   "source": [
    "train_new.to_csv('new_data/train_new.csv', header=True, index=False)\n",
    "test_new.to_csv('new_data/test_new.csv', header=True, index=False)"
   ]
  },
  {
   "cell_type": "markdown",
   "metadata": {},
   "source": [
    "## 結合のデータの検証"
   ]
  },
  {
   "cell_type": "code",
   "execution_count": 6,
   "metadata": {},
   "outputs": [],
   "source": [
    "#学習データのID、目的変数が結合の前後で変化していないか検証\n",
    "assert len(train.y) == len(train_new.y)\n",
    "assert (train.y == train_new.y).all()\n",
    "\n",
    "assert len(train.id) == len(train_new.id)\n",
    "assert (train.id == train_new.id).all()\n",
    "\n",
    "#テストデータのIDが結合の前後で変化していないか検証\n",
    "assert len(test.id) == len(test_new.id)\n",
    "assert (test.id == test_new.id).all()\n",
    "\n",
    "#conditionデータが学習データ、テストデータと対応していないものがないか確認\n",
    "assert train.id.isin(condition.id).all()\n",
    "assert test.id.isin(condition.id).all()\n",
    "\n",
    "#stadiumデータが学習データ、テストデータと対応していないものがないか確認\n",
    "assert train.stadium.isin(stadium.name).all()\n",
    "assert test.stadium.isin(stadium.name).all()"
   ]
  }
 ],
 "metadata": {
  "kernelspec": {
   "display_name": "Python 3",
   "language": "python",
   "name": "python3"
  },
  "language_info": {
   "codemirror_mode": {
    "name": "ipython",
    "version": 3
   },
   "file_extension": ".py",
   "mimetype": "text/x-python",
   "name": "python",
   "nbconvert_exporter": "python",
   "pygments_lexer": "ipython3",
   "version": "3.8.2"
  }
 },
 "nbformat": 4,
 "nbformat_minor": 4
}
