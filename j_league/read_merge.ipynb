{
 "cells": [
  {
   "cell_type": "code",
   "execution_count": 1,
   "metadata": {},
   "outputs": [],
   "source": [
    "#使用ライブラリ\n",
    "import pandas as pd"
   ]
  },
  {
   "cell_type": "code",
   "execution_count": 2,
   "metadata": {},
   "outputs": [],
   "source": [
    "#データ読込\n",
    "train = pd.read_csv(filepath_or_buffer='../../data/JLeague/train.csv')\n",
    "test = pd.read_csv(filepath_or_buffer='../../data/JLeague/test.csv')\n",
    "condition = pd.read_csv(filepath_or_buffer='../../data/JLeague/condition.csv')\n",
    "stadium = pd.read_csv(filepath_or_buffer='../../data/JLeague/stadium.csv')\n",
    "sample = pd.read_csv(filepath_or_buffer='../../data/JLeague/sample_submit.csv')"
   ]
  },
  {
   "cell_type": "code",
   "execution_count": 3,
   "metadata": {},
   "outputs": [],
   "source": [
    "#trainとconditionを対戦カードidを基準に結合\n",
    "tmp1 = pd.merge(train, condition, on='id', how='left')\n",
    "#display(tmp1)\n",
    "#testとconditionを対戦カードidを基準に結合\n",
    "tmp2 = pd.merge(test, condition, on='id', how='left')"
   ]
  },
  {
   "cell_type": "code",
   "execution_count": 4,
   "metadata": {},
   "outputs": [],
   "source": [
    "#結合(基準とする変数名が違うので注意)\n",
    "train_new = pd.merge(tmp1, stadium, left_on='stadium', right_on='name', how='left')\n",
    "test_new = pd.merge(tmp2, stadium, left_on='stadium', right_on='name', how='left')"
   ]
  },
  {
   "cell_type": "code",
   "execution_count": 5,
   "metadata": {},
   "outputs": [],
   "source": [
    "train_new.to_csv('new_data/train_new.csv', header=True, index=False)\n",
    "test_new.to_csv('new_data/test_new.csv', header=True, index=False)"
   ]
  }
 ],
 "metadata": {
  "kernelspec": {
   "display_name": "Python 3",
   "language": "python",
   "name": "python3"
  },
  "language_info": {
   "codemirror_mode": {
    "name": "ipython",
    "version": 3
   },
   "file_extension": ".py",
   "mimetype": "text/x-python",
   "name": "python",
   "nbconvert_exporter": "python",
   "pygments_lexer": "ipython3",
   "version": "3.8.2"
  }
 },
 "nbformat": 4,
 "nbformat_minor": 4
}
