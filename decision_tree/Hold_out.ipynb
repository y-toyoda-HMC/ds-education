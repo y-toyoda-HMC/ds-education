{
 "cells": [
  {
   "cell_type": "code",
   "execution_count": 1,
   "metadata": {},
   "outputs": [],
   "source": [
    "#使用ライブラリ\n",
    "import pandas as pd\n",
    "from sklearn.model_selection import train_test_split"
   ]
  },
  {
   "cell_type": "code",
   "execution_count": 2,
   "metadata": {},
   "outputs": [],
   "source": [
    "#データ読込\n",
    "train = pd.read_csv(filepath_or_buffer=\"/home/y-toyoda/data/bank/train.csv\")"
   ]
  },
  {
   "cell_type": "code",
   "execution_count": 3,
   "metadata": {},
   "outputs": [],
   "source": [
    "#構築データの割合\n",
    "rate = 0.7\n",
    "\n",
    "#構築データ数（少数の切捨て）\n",
    "num = round(len(train) * rate)"
   ]
  },
  {
   "cell_type": "code",
   "execution_count": 4,
   "metadata": {},
   "outputs": [],
   "source": [
    "########ランダムに構築データを取得########\n",
    "#再現性のため乱数シードを固定\n",
    "#sample(ランダムに取得する個数, 乱数シード)\n",
    "row = train.sample(n=num, random_state=17)\n",
    "#構築データ\n",
    "#row が検証データのDataFrameになっている"
   ]
  },
  {
   "cell_type": "code",
   "execution_count": 5,
   "metadata": {},
   "outputs": [],
   "source": [
    "#検証データ\n",
    "train_test = train.drop(row.index.values)"
   ]
  },
  {
   "cell_type": "code",
   "execution_count": 6,
   "metadata": {},
   "outputs": [
    {
     "name": "stdout",
     "output_type": "stream",
     "text": [
      "          id  age           job   marital  education default  balance housing  \\\n",
      "5909    5910   42    management    single   tertiary      no     7560      no   \n",
      "3499    3500   29    technician   married  secondary      no      266     yes   \n",
      "5982    5983   30    technician    single   tertiary      no        0     yes   \n",
      "24962  24963   41    management   married   tertiary      no     -499      no   \n",
      "22891  22892   29    management    single  secondary      no        0      no   \n",
      "...      ...  ...           ...       ...        ...     ...      ...     ...   \n",
      "13123  13124   39    technician  divorced  secondary      no      394     yes   \n",
      "19648  19649   51       retired   married    primary      no       34     yes   \n",
      "9845    9846   31   blue-collar   married  secondary      no      150     yes   \n",
      "10799  10800   38  entrepreneur   married  secondary      no      593     yes   \n",
      "2732    2733   31    management   married   tertiary      no     6138      no   \n",
      "\n",
      "      loan    contact  day month  duration  campaign  pdays  previous  \\\n",
      "5909    no   cellular   28   jan       132         1     -1         0   \n",
      "3499    no   cellular   18   may       208         1     -1         0   \n",
      "5982    no   cellular   13   aug       150         4     -1         0   \n",
      "24962   no   cellular   31   jul        21        17     -1         0   \n",
      "22891  yes   cellular   21   jul       463         2     -1         0   \n",
      "...    ...        ...  ...   ...       ...       ...    ...       ...   \n",
      "13123   no    unknown   29   may       184         1     -1         0   \n",
      "19648   no   cellular   16   jul        69         2     -1         0   \n",
      "9845    no  telephone   14   may        68         2     -1         0   \n",
      "10799  yes   cellular   24   jul      1484        24     -1         0   \n",
      "2732    no   cellular   19   jun       241         5     -1         0   \n",
      "\n",
      "      poutcome  y  \n",
      "5909   unknown  1  \n",
      "3499   unknown  0  \n",
      "5982   unknown  0  \n",
      "24962  unknown  0  \n",
      "22891  unknown  0  \n",
      "...        ... ..  \n",
      "13123  unknown  0  \n",
      "19648  unknown  0  \n",
      "9845   unknown  0  \n",
      "10799  unknown  1  \n",
      "2732   unknown  0  \n",
      "\n",
      "[18989 rows x 18 columns]\n",
      "          id  age          job   marital  education default  balance housing  \\\n",
      "22824  22825   31       admin.    single  secondary      no      223     yes   \n",
      "4197    4198   50   management   married   tertiary      no     4374     yes   \n",
      "19743  19744   28       admin.    single   tertiary      no       14      no   \n",
      "18971  18972   30   technician  divorced  secondary      no        4     yes   \n",
      "2931    2932   46      unknown   married    primary      no      110      no   \n",
      "...      ...  ...          ...       ...        ...     ...      ...     ...   \n",
      "15522  15523   42   technician   married   tertiary      no     1619      no   \n",
      "18919  18920   40  blue-collar   married  secondary     yes      231     yes   \n",
      "13801  13802   40  blue-collar    single    primary      no     1530     yes   \n",
      "2764    2765   39       admin.   married  secondary      no        0      no   \n",
      "22174  22175   35   technician  divorced  secondary      no       84     yes   \n",
      "\n",
      "      loan   contact  day month  duration  campaign  pdays  previous poutcome  \\\n",
      "22824   no  cellular   17   apr       508         1    315        11  success   \n",
      "4197    no  cellular   21   nov       163         2    113         3  failure   \n",
      "19743   no  cellular    1   jun       201         1     -1         0  unknown   \n",
      "18971   no   unknown   20   may       270         1     -1         0  unknown   \n",
      "2931    no   unknown   19   jun       113        14     -1         0  unknown   \n",
      "...    ...       ...  ...   ...       ...       ...    ...       ...      ...   \n",
      "15522   no  cellular    4   aug       148         1     -1         0  unknown   \n",
      "18919   no  cellular    2   feb        69         3     -1         0  unknown   \n",
      "13801   no  cellular   20   apr         8         3    315         1  failure   \n",
      "2764    no  cellular   27   jan       366         1    436        10  failure   \n",
      "22174  yes  cellular    6   may       954         1     -1         0  unknown   \n",
      "\n",
      "       y  \n",
      "22824  0  \n",
      "4197   0  \n",
      "19743  0  \n",
      "18971  0  \n",
      "2931   0  \n",
      "...   ..  \n",
      "15522  0  \n",
      "18919  0  \n",
      "13801  0  \n",
      "2764   1  \n",
      "22174  1  \n",
      "\n",
      "[8139 rows x 18 columns]\n"
     ]
    }
   ],
   "source": [
    "#1行でも分離可能\n",
    "other_train, other_test = train_test_split(train, test_size=0.3, random_state=0)\n",
    "\n",
    "#確認\n",
    "print(other_train)\n",
    "print(other_test)"
   ]
  }
 ],
 "metadata": {
  "kernelspec": {
   "display_name": "Python 3",
   "language": "python",
   "name": "python3"
  },
  "language_info": {
   "codemirror_mode": {
    "name": "ipython",
    "version": 3
   },
   "file_extension": ".py",
   "mimetype": "text/x-python",
   "name": "python",
   "nbconvert_exporter": "python",
   "pygments_lexer": "ipython3",
   "version": "3.8.2"
  }
 },
 "nbformat": 4,
 "nbformat_minor": 4
}
