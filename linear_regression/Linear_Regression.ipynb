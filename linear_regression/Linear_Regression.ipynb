{
 "cells": [
  {
   "cell_type": "code",
   "execution_count": 1,
   "metadata": {},
   "outputs": [],
   "source": [
    "#使用ライブラリ\n",
    "import pandas as pd\n",
    "from sklearn.linear_model import LinearRegression"
   ]
  },
  {
   "cell_type": "code",
   "execution_count": 2,
   "metadata": {},
   "outputs": [],
   "source": [
    "###データ読込(結合したデータ)\n",
    "train = pd.read_csv(filepath_or_buffer='../j_league/new_data/train_new.csv')\n",
    "test = pd.read_csv(filepath_or_buffer='../j_league/new_data/test_new.csv')"
   ]
  },
  {
   "cell_type": "markdown",
   "metadata": {},
   "source": [
    "### 使用変数の作成"
   ]
  },
  {
   "cell_type": "code",
   "execution_count": 3,
   "metadata": {},
   "outputs": [],
   "source": [
    "#変数選択(目的変数, 気温, 収容人数)\n",
    "lm_train = train[['y', 'temperature', 'capa']]\n",
    "lm_test = test[['temperature', 'capa']]"
   ]
  },
  {
   "cell_type": "markdown",
   "metadata": {},
   "source": [
    "### 重回帰分析"
   ]
  },
  {
   "cell_type": "code",
   "execution_count": 4,
   "metadata": {},
   "outputs": [],
   "source": [
    "lm = LinearRegression().fit(lm_train.drop('y', 1), lm_train['y'])"
   ]
  },
  {
   "cell_type": "markdown",
   "metadata": {},
   "source": [
    "### testに当てはめ"
   ]
  },
  {
   "cell_type": "code",
   "execution_count": 5,
   "metadata": {},
   "outputs": [],
   "source": [
    "pred = lm.predict(lm_test)"
   ]
  },
  {
   "cell_type": "markdown",
   "metadata": {},
   "source": [
    "### submit形式に整える"
   ]
  },
  {
   "cell_type": "code",
   "execution_count": 6,
   "metadata": {},
   "outputs": [],
   "source": [
    "out = pd.DataFrame({'id': test['id'],\n",
    "                   'y': pred})\n",
    "#CSV出力(ヘッダーなし)\n",
    "out.to_csv('submit/submit_lm.csv', header=False, index=False)"
   ]
  },
  {
   "cell_type": "code",
   "execution_count": 7,
   "metadata": {},
   "outputs": [],
   "source": [
    "#出力したCSVが想定どおりのフォーマットか確認する\n",
    "#先ほど出力したファイルと投稿用のサンプルファイルを読込\n",
    "submit_sample = pd.read_csv(filepath_or_buffer='../../data/JLeague/sample_submit.csv')\n",
    "submit_out = pd.read_csv(filepath_or_buffer='submit/submit_lm.csv')\n",
    "\n",
    "#インデックスを比較\n",
    "assert len(submit_sample.index.values) == len(submit_out.index.values)\n",
    "assert (submit_sample.index.values == submit_out.index.values).all()\n",
    "\n",
    "#1列目がidとなっており、同じIDから始まっているか検証\n",
    "assert submit_sample.columns[0] == submit_out.columns[0]\n",
    "assert (submit_out.iloc[:, 0] == submit_sample.iloc[:, 0]).all()\n",
    "\n",
    "#2列目の列名「y」が入っていないか検証\n",
    "assert 'y' != submit_out.columns[0]"
   ]
  }
 ],
 "metadata": {
  "kernelspec": {
   "display_name": "Python 3",
   "language": "python",
   "name": "python3"
  },
  "language_info": {
   "codemirror_mode": {
    "name": "ipython",
    "version": 3
   },
   "file_extension": ".py",
   "mimetype": "text/x-python",
   "name": "python",
   "nbconvert_exporter": "python",
   "pygments_lexer": "ipython3",
   "version": "3.8.2"
  }
 },
 "nbformat": 4,
 "nbformat_minor": 4
}
